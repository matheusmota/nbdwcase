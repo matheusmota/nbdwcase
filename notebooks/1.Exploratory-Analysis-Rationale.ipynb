{
 "cells": [
  {
   "cell_type": "code",
   "execution_count": 1,
   "metadata": {},
   "outputs": [
    {
     "data": {
      "text/html": [
       "\n",
       "        <div>\n",
       "            <p><b>SparkContext</b></p>\n",
       "\n",
       "            <p><a href=\"http://e636920df228:4042\">Spark UI</a></p>\n",
       "\n",
       "            <dl>\n",
       "              <dt>Version</dt>\n",
       "                <dd><code>v2.4.5</code></dd>\n",
       "              <dt>Master</dt>\n",
       "                <dd><code>local[*]</code></dd>\n",
       "              <dt>AppName</dt>\n",
       "                <dd><code>pyspark-shell</code></dd>\n",
       "            </dl>\n",
       "        </div>\n",
       "        "
      ],
      "text/plain": [
       "<SparkContext master=local[*] appName=pyspark-shell>"
      ]
     },
     "execution_count": 1,
     "metadata": {},
     "output_type": "execute_result"
    }
   ],
   "source": [
    "import os, socket\n",
    "import pyspark\n",
    "\n",
    "conf = pyspark.SparkConf()\n",
    "conf.set(\"spark.sql.repl.eagerEval.enabled\", True)\n",
    "conf.set(\"spark.executor.memory\", \"8g\")\n",
    "conf.set(\"spark.driver.memory\", \"8g\")\n",
    "\n",
    "sc = pyspark.SparkContext('local[*]', conf=conf)\n",
    "sc"
   ]
  },
  {
   "cell_type": "code",
   "execution_count": 2,
   "metadata": {},
   "outputs": [
    {
     "data": {
      "text/html": [
       "<table border='1'>\n",
       "<tr><th>id</th><th>created_at</th><th>enabled</th><th>price_range</th><th>average_ticket</th><th>takeout_time</th><th>delivery_time</th><th>minimum_order_value</th><th>merchant_zip_code</th><th>merchant_city</th><th>merchant_state</th><th>merchant_country</th></tr>\n",
       "<tr><td>02c94103-61f3-490...</td><td>2017-01-23T12:52:...</td><td>false</td><td>3</td><td>60.0</td><td>0</td><td>50</td><td>30.0</td><td>14025</td><td>RIBEIRAO PRETO</td><td>SP</td><td>BR</td></tr>\n",
       "<tr><td>15e7f5fd-090d-47b...</td><td>2017-01-20T13:14:...</td><td>true</td><td>3</td><td>60.0</td><td>0</td><td>0</td><td>30.0</td><td>50180</td><td>SAO PAULO</td><td>SP</td><td>BR</td></tr>\n",
       "<tr><td>33ca5d3d-b99f-404...</td><td>2017-01-23T12:46:...</td><td>true</td><td>5</td><td>100.0</td><td>0</td><td>45</td><td>10.0</td><td>23090</td><td>RIO DE JANEIRO</td><td>RJ</td><td>BR</td></tr>\n",
       "</table>\n"
      ],
      "text/plain": [
       "+--------------------+--------------------+-------+-----------+--------------+------------+-------------+-------------------+-----------------+--------------+--------------+----------------+\n",
       "|                  id|          created_at|enabled|price_range|average_ticket|takeout_time|delivery_time|minimum_order_value|merchant_zip_code| merchant_city|merchant_state|merchant_country|\n",
       "+--------------------+--------------------+-------+-----------+--------------+------------+-------------+-------------------+-----------------+--------------+--------------+----------------+\n",
       "|02c94103-61f3-490...|2017-01-23T12:52:...|  false|          3|          60.0|           0|           50|               30.0|            14025|RIBEIRAO PRETO|            SP|              BR|\n",
       "|15e7f5fd-090d-47b...|2017-01-20T13:14:...|   true|          3|          60.0|           0|            0|               30.0|            50180|     SAO PAULO|            SP|              BR|\n",
       "|33ca5d3d-b99f-404...|2017-01-23T12:46:...|   true|          5|         100.0|           0|           45|               10.0|            23090|RIO DE JANEIRO|            RJ|              BR|\n",
       "+--------------------+--------------------+-------+-----------+--------------+------------+-------------+-------------------+-----------------+--------------+--------------+----------------+"
      ]
     },
     "execution_count": 2,
     "metadata": {},
     "output_type": "execute_result"
    }
   ],
   "source": [
    "sc._jsc.hadoopConfiguration().set(\"fs.s3a.access.key\", \"minioadmin\")\n",
    "sc._jsc.hadoopConfiguration().set(\"fs.s3a.secret.key\", \"minioadmin\")\n",
    "sc._jsc.hadoopConfiguration().set(\"fs.s3a.endpoint\", \"http://{}:9000\".format(socket.gethostbyname_ex('minio-s3')[2][0]))\n",
    "sc._jsc.hadoopConfiguration().set(\"fs.s3a.path.style.access\", \"true\")\n",
    "sc._jsc.hadoopConfiguration().set(\"fs.s3a.connection.ssl.enabled\", \"false\")\n",
    "\n",
    "sqlc = pyspark.sql.SQLContext(sc)\n",
    "\n",
    "# testing s3 connection (minio service)-\n",
    "sqlc.read.parquet('s3a://raw-data/restaurant.csv.parquet').limit(3)"
   ]
  },
  {
   "cell_type": "markdown",
   "metadata": {},
   "source": [
    "# Exploratory Analysis"
   ]
  },
  {
   "cell_type": "markdown",
   "metadata": {},
   "source": [
    "## Format reading benchmarking\n"
   ]
  },
  {
   "cell_type": "code",
   "execution_count": 3,
   "metadata": {},
   "outputs": [
    {
     "name": "stdout",
     "output_type": "stream",
     "text": [
      "CPU times: user 2.24 ms, sys: 0 ns, total: 2.24 ms\n",
      "Wall time: 146 ms\n"
     ]
    }
   ],
   "source": [
    "%%time\n",
    "df_order_parquet = sqlc.read.parquet('s3a://raw-data/order.json.parquet/')"
   ]
  },
  {
   "cell_type": "code",
   "execution_count": 7,
   "metadata": {},
   "outputs": [
    {
     "data": {
      "text/html": [
       "<table border='1'>\n",
       "<tr><th>cpf</th><th>customer_id</th><th>customer_name</th><th>delivery_address_city</th><th>delivery_address_country</th><th>delivery_address_district</th><th>delivery_address_external_id</th><th>delivery_address_latitude</th><th>delivery_address_longitude</th><th>delivery_address_state</th><th>delivery_address_zip_code</th><th>items</th><th>merchant_id</th><th>merchant_latitude</th><th>merchant_longitude</th><th>merchant_timezone</th><th>order_created_at</th><th>order_id</th><th>order_scheduled</th><th>order_total_amount</th><th>origin_platform</th><th>order_scheduled_date</th></tr>\n",
       "<tr><td>80532101763</td><td>977b9a89-825f-464...</td><td>GUSTAVO</td><td>FRANCA</td><td>BR</td><td>JARDIM ESPRAIADO</td><td>6736655</td><td>-47.39</td><td>-20.55</td><td>SP</td><td>14403</td><td>[{&quot;name&quot;: &quot;Parmeg...</td><td>eb4197f9-964c-4f8...</td><td>-47.39</td><td>-20.55</td><td>America/Sao_Paulo</td><td>2019-01-17T22:50:...</td><td>dd4f8f0a-c2cb-45c...</td><td>false</td><td>46.0</td><td>ANDROID</td><td>null</td></tr>\n",
       "<tr><td>43352103961</td><td>e969cc0d-388b-402...</td><td>MICHELLE</td><td>SANTOS</td><td>BR</td><td>CAMPO GRANDE</td><td>8759216</td><td>-46.34</td><td>-23.96</td><td>SP</td><td>11070</td><td>[{&quot;name&quot;: &quot;Filé M...</td><td>927d46f9-4bb3-48f...</td><td>-46.34</td><td>-23.96</td><td>America/Sao_Paulo</td><td>2019-01-17T17:51:...</td><td>8dd80f0b-db00-4b8...</td><td>false</td><td>104.5</td><td>ANDROID</td><td>null</td></tr>\n",
       "<tr><td>38650991217</td><td>e08dcc8b-f998-405...</td><td>VICTOR</td><td>GUARULHOS</td><td>BR</td><td>JARDIM ROSSI</td><td>8765930</td><td>-46.53</td><td>-23.44</td><td>SP</td><td>71304</td><td>[{&quot;name&quot;: &quot;GRANDE...</td><td>71ad62c5-5947-451...</td><td>-46.53</td><td>-23.44</td><td>America/Sao_Paulo</td><td>2019-01-17T22:53:...</td><td>430f9887-a563-45e...</td><td>false</td><td>35.0</td><td>IOS</td><td>null</td></tr>\n",
       "</table>\n"
      ],
      "text/plain": [
       "+-----------+--------------------+-------------+---------------------+------------------------+-------------------------+----------------------------+-------------------------+--------------------------+----------------------+-------------------------+--------------------+--------------------+-----------------+------------------+-----------------+--------------------+--------------------+---------------+------------------+---------------+--------------------+\n",
       "|        cpf|         customer_id|customer_name|delivery_address_city|delivery_address_country|delivery_address_district|delivery_address_external_id|delivery_address_latitude|delivery_address_longitude|delivery_address_state|delivery_address_zip_code|               items|         merchant_id|merchant_latitude|merchant_longitude|merchant_timezone|    order_created_at|            order_id|order_scheduled|order_total_amount|origin_platform|order_scheduled_date|\n",
       "+-----------+--------------------+-------------+---------------------+------------------------+-------------------------+----------------------------+-------------------------+--------------------------+----------------------+-------------------------+--------------------+--------------------+-----------------+------------------+-----------------+--------------------+--------------------+---------------+------------------+---------------+--------------------+\n",
       "|80532101763|977b9a89-825f-464...|      GUSTAVO|               FRANCA|                      BR|         JARDIM ESPRAIADO|                     6736655|                   -47.39|                    -20.55|                    SP|                    14403|[{\"name\": \"Parmeg...|eb4197f9-964c-4f8...|           -47.39|            -20.55|America/Sao_Paulo|2019-01-17T22:50:...|dd4f8f0a-c2cb-45c...|          false|              46.0|        ANDROID|                null|\n",
       "|43352103961|e969cc0d-388b-402...|     MICHELLE|               SANTOS|                      BR|             CAMPO GRANDE|                     8759216|                   -46.34|                    -23.96|                    SP|                    11070|[{\"name\": \"Filé M...|927d46f9-4bb3-48f...|           -46.34|            -23.96|America/Sao_Paulo|2019-01-17T17:51:...|8dd80f0b-db00-4b8...|          false|             104.5|        ANDROID|                null|\n",
       "|38650991217|e08dcc8b-f998-405...|       VICTOR|            GUARULHOS|                      BR|             JARDIM ROSSI|                     8765930|                   -46.53|                    -23.44|                    SP|                    71304|[{\"name\": \"GRANDE...|71ad62c5-5947-451...|           -46.53|            -23.44|America/Sao_Paulo|2019-01-17T22:53:...|430f9887-a563-45e...|          false|              35.0|            IOS|                null|\n",
       "+-----------+--------------------+-------------+---------------------+------------------------+-------------------------+----------------------------+-------------------------+--------------------------+----------------------+-------------------------+--------------------+--------------------+-----------------+------------------+-----------------+--------------------+--------------------+---------------+------------------+---------------+--------------------+"
      ]
     },
     "execution_count": 7,
     "metadata": {},
     "output_type": "execute_result"
    }
   ],
   "source": [
    "df_order_parquet.limit(3)"
   ]
  },
  {
   "cell_type": "code",
   "execution_count": 4,
   "metadata": {},
   "outputs": [
    {
     "name": "stdout",
     "output_type": "stream",
     "text": [
      "CPU times: user 8.15 ms, sys: 1.02 ms, total: 9.17 ms\n",
      "Wall time: 42.6 s\n"
     ]
    }
   ],
   "source": [
    "%%time\n",
    "df_order_json = sqlc.read.json('s3a://raw-data/order.json/')"
   ]
  },
  {
   "cell_type": "code",
   "execution_count": 5,
   "metadata": {},
   "outputs": [],
   "source": [
    "import pyspark.sql.functions as F\n",
    "import pyspark.sql.types as T"
   ]
  },
  {
   "cell_type": "markdown",
   "metadata": {},
   "source": [
    "## Loading & exploring main dataframes"
   ]
  },
  {
   "cell_type": "code",
   "execution_count": 6,
   "metadata": {},
   "outputs": [],
   "source": [
    "def describe_dataframe(df):\n",
    "    \n",
    "    raw_count=df.count()\n",
    "    no_duplicates_count = df.dropDuplicates().count()\n",
    "    diff_count = raw_count - no_duplicates_count\n",
    "    percent_duplicates = no_duplicates_count/raw_count * 100\n",
    "    print(\"Raw   rows: {}\".format(raw_count))\n",
    "    print(\"Nodup rows: {}\".format(no_duplicates_count))\n",
    "    print(\"Diff      : {} ({} % not dup.)\".format(diff_count, percent_duplicates))"
   ]
  },
  {
   "cell_type": "markdown",
   "metadata": {},
   "source": [
    "### Restaurant"
   ]
  },
  {
   "cell_type": "code",
   "execution_count": 7,
   "metadata": {},
   "outputs": [
    {
     "name": "stdout",
     "output_type": "stream",
     "text": [
      "root\n",
      " |-- id: string (nullable = true)\n",
      " |-- created_at: string (nullable = true)\n",
      " |-- enabled: boolean (nullable = true)\n",
      " |-- price_range: integer (nullable = true)\n",
      " |-- average_ticket: double (nullable = true)\n",
      " |-- takeout_time: integer (nullable = true)\n",
      " |-- delivery_time: integer (nullable = true)\n",
      " |-- minimum_order_value: double (nullable = true)\n",
      " |-- merchant_zip_code: integer (nullable = true)\n",
      " |-- merchant_city: string (nullable = true)\n",
      " |-- merchant_state: string (nullable = true)\n",
      " |-- merchant_country: string (nullable = true)\n",
      "\n",
      "Raw   rows: 7292\n",
      "Nodup rows: 7292\n",
      "Diff      : 0 (100.0 % not dup.)\n"
     ]
    },
    {
     "data": {
      "text/html": [
       "<table border='1'>\n",
       "<tr><th>id</th><th>created_at</th><th>enabled</th><th>price_range</th><th>average_ticket</th><th>takeout_time</th><th>delivery_time</th><th>minimum_order_value</th><th>merchant_zip_code</th><th>merchant_city</th><th>merchant_state</th><th>merchant_country</th></tr>\n",
       "<tr><td>02c94103-61f3-490...</td><td>2017-01-23T12:52:...</td><td>false</td><td>3</td><td>60.0</td><td>0</td><td>50</td><td>30.0</td><td>14025</td><td>RIBEIRAO PRETO</td><td>SP</td><td>BR</td></tr>\n",
       "<tr><td>15e7f5fd-090d-47b...</td><td>2017-01-20T13:14:...</td><td>true</td><td>3</td><td>60.0</td><td>0</td><td>0</td><td>30.0</td><td>50180</td><td>SAO PAULO</td><td>SP</td><td>BR</td></tr>\n",
       "<tr><td>33ca5d3d-b99f-404...</td><td>2017-01-23T12:46:...</td><td>true</td><td>5</td><td>100.0</td><td>0</td><td>45</td><td>10.0</td><td>23090</td><td>RIO DE JANEIRO</td><td>RJ</td><td>BR</td></tr>\n",
       "</table>\n"
      ],
      "text/plain": [
       "+--------------------+--------------------+-------+-----------+--------------+------------+-------------+-------------------+-----------------+--------------+--------------+----------------+\n",
       "|                  id|          created_at|enabled|price_range|average_ticket|takeout_time|delivery_time|minimum_order_value|merchant_zip_code| merchant_city|merchant_state|merchant_country|\n",
       "+--------------------+--------------------+-------+-----------+--------------+------------+-------------+-------------------+-----------------+--------------+--------------+----------------+\n",
       "|02c94103-61f3-490...|2017-01-23T12:52:...|  false|          3|          60.0|           0|           50|               30.0|            14025|RIBEIRAO PRETO|            SP|              BR|\n",
       "|15e7f5fd-090d-47b...|2017-01-20T13:14:...|   true|          3|          60.0|           0|            0|               30.0|            50180|     SAO PAULO|            SP|              BR|\n",
       "|33ca5d3d-b99f-404...|2017-01-23T12:46:...|   true|          5|         100.0|           0|           45|               10.0|            23090|RIO DE JANEIRO|            RJ|              BR|\n",
       "+--------------------+--------------------+-------+-----------+--------------+------------+-------------+-------------------+-----------------+--------------+--------------+----------------+"
      ]
     },
     "execution_count": 7,
     "metadata": {},
     "output_type": "execute_result"
    }
   ],
   "source": [
    "df_restaurant = sqlc.read.parquet('s3a://raw-data/restaurant.csv.parquet/')\n",
    "\n",
    "df_restaurant.printSchema()\n",
    "describe_dataframe(df_restaurant)\n",
    "df_restaurant.limit(3)"
   ]
  },
  {
   "cell_type": "markdown",
   "metadata": {},
   "source": [
    "### Order Statuses"
   ]
  },
  {
   "cell_type": "code",
   "execution_count": 8,
   "metadata": {},
   "outputs": [
    {
     "name": "stdout",
     "output_type": "stream",
     "text": [
      "root\n",
      " |-- order_id: string (nullable = true)\n",
      " |-- status_id: string (nullable = true)\n",
      " |-- value: string (nullable = true)\n",
      " |-- created_at: string (nullable = true)\n",
      "\n",
      "Raw   rows: 11075048\n",
      "Nodup rows: 7340326\n",
      "Diff      : 3734722 (66.27805134569168 % not dup.)\n",
      "+------------------------------------+------------------------------------+----------+------------------------+\n",
      "|order_id                            |status_id                           |value     |created_at              |\n",
      "+------------------------------------+------------------------------------+----------+------------------------+\n",
      "|bb779eab-d791-482a-94f5-abd89ee52002|fbd8d04d-d5bf-4fe9-9f09-02c06fc6a7c4|REGISTERED|2019-01-31T23:59:59.000Z|\n",
      "|bb779eab-d791-482a-94f5-abd89ee52002|9828451d-aae0-4c0f-a373-e691e42bc73b|PLACED    |2019-01-02T00:00:00.000Z|\n",
      "|bb779eab-d791-482a-94f5-abd89ee52002|751d2263-6718-4aa9-8e84-e1039ee772eb|CONCLUDED |2019-01-02T02:00:07.000Z|\n",
      "+------------------------------------+------------------------------------+----------+------------------------+\n",
      "\n"
     ]
    }
   ],
   "source": [
    "df_status = sqlc.read.parquet('s3a://raw-data/status.json.parquet/')\n",
    "\n",
    "df_status.printSchema()\n",
    "describe_dataframe(df_status)\n",
    "df_status.filter(df_status.order_id == \"bb779eab-d791-482a-94f5-abd89ee52002\").limit(5).show(5, False)"
   ]
  },
  {
   "cell_type": "markdown",
   "metadata": {},
   "source": [
    "### Consumer"
   ]
  },
  {
   "cell_type": "code",
   "execution_count": 12,
   "metadata": {},
   "outputs": [
    {
     "name": "stdout",
     "output_type": "stream",
     "text": [
      "root\n",
      " |-- customer_id: string (nullable = true)\n",
      " |-- language: string (nullable = true)\n",
      " |-- created_at: string (nullable = true)\n",
      " |-- active: string (nullable = true)\n",
      " |-- customer_name: string (nullable = true)\n",
      " |-- customer_phone_area: string (nullable = true)\n",
      " |-- customer_phone_number: string (nullable = true)\n",
      "\n",
      "Raw   rows: 809323\n",
      "Nodup rows: 809323\n",
      "Diff      : 0 (100.0 % not dup.)\n"
     ]
    },
    {
     "data": {
      "text/html": [
       "<table border='1'>\n",
       "<tr><th>customer_id</th><th>language</th><th>created_at</th><th>active</th><th>customer_name</th><th>customer_phone_area</th><th>customer_phone_number</th></tr>\n",
       "<tr><td>00039466-560f-4e5...</td><td>pt-br</td><td>2018-04-05T14:49:...</td><td>true</td><td>NUNO</td><td>46</td><td>816135924</td></tr>\n",
       "<tr><td>001a1267-31a3-4f5...</td><td>pt-br</td><td>2018-01-14T21:40:...</td><td>true</td><td>ADRIELLY</td><td>59</td><td>231330577</td></tr>\n",
       "<tr><td>003ae1d5-67b8-4a0...</td><td>pt-br</td><td>2018-01-07T03:47:...</td><td>true</td><td>PAULA</td><td>62</td><td>347597883</td></tr>\n",
       "</table>\n"
      ],
      "text/plain": [
       "+--------------------+--------+--------------------+------+-------------+-------------------+---------------------+\n",
       "|         customer_id|language|          created_at|active|customer_name|customer_phone_area|customer_phone_number|\n",
       "+--------------------+--------+--------------------+------+-------------+-------------------+---------------------+\n",
       "|00039466-560f-4e5...|   pt-br|2018-04-05T14:49:...|  true|         NUNO|                 46|            816135924|\n",
       "|001a1267-31a3-4f5...|   pt-br|2018-01-14T21:40:...|  true|     ADRIELLY|                 59|            231330577|\n",
       "|003ae1d5-67b8-4a0...|   pt-br|2018-01-07T03:47:...|  true|        PAULA|                 62|            347597883|\n",
       "+--------------------+--------+--------------------+------+-------------+-------------------+---------------------+"
      ]
     },
     "execution_count": 12,
     "metadata": {},
     "output_type": "execute_result"
    }
   ],
   "source": [
    "df_consumer = sqlc.read.csv('s3a://raw-data/consumer.csv/', header=True)\n",
    "\n",
    "df_consumer.printSchema()\n",
    "describe_dataframe(df_consumer)\n",
    "df_consumer.limit(3)"
   ]
  },
  {
   "cell_type": "markdown",
   "metadata": {},
   "source": [
    "### Order"
   ]
  },
  {
   "cell_type": "code",
   "execution_count": 13,
   "metadata": {},
   "outputs": [
    {
     "name": "stdout",
     "output_type": "stream",
     "text": [
      "root\n",
      " |-- cpf: string (nullable = true)\n",
      " |-- customer_id: string (nullable = true)\n",
      " |-- customer_name: string (nullable = true)\n",
      " |-- delivery_address_city: string (nullable = true)\n",
      " |-- delivery_address_country: string (nullable = true)\n",
      " |-- delivery_address_district: string (nullable = true)\n",
      " |-- delivery_address_external_id: string (nullable = true)\n",
      " |-- delivery_address_latitude: string (nullable = true)\n",
      " |-- delivery_address_longitude: string (nullable = true)\n",
      " |-- delivery_address_state: string (nullable = true)\n",
      " |-- delivery_address_zip_code: string (nullable = true)\n",
      " |-- items: string (nullable = true)\n",
      " |-- merchant_id: string (nullable = true)\n",
      " |-- merchant_latitude: string (nullable = true)\n",
      " |-- merchant_longitude: string (nullable = true)\n",
      " |-- merchant_timezone: string (nullable = true)\n",
      " |-- order_created_at: string (nullable = true)\n",
      " |-- order_id: string (nullable = true)\n",
      " |-- order_scheduled: boolean (nullable = true)\n",
      " |-- order_total_amount: double (nullable = true)\n",
      " |-- origin_platform: string (nullable = true)\n",
      " |-- order_scheduled_date: string (nullable = true)\n",
      "\n",
      "Raw   rows: 3683040\n",
      "Nodup rows: 3683040\n",
      "Diff      : 0 (100.0 % not dup.)\n",
      "Raw   rows: 3683040\n",
      "Nodup rows: 3683040\n",
      "Diff      : 0 (100.0 % not dup.)\n"
     ]
    }
   ],
   "source": [
    "df_order = sqlc.read.parquet('s3a://raw-data/order.json.parquet/')\n",
    "\n",
    "df_order.printSchema()\n",
    "describe_dataframe(df_order)\n",
    "describe_dataframe(df_order)"
   ]
  },
  {
   "cell_type": "code",
   "execution_count": 14,
   "metadata": {},
   "outputs": [
    {
     "data": {
      "text/html": [
       "<table border='1'>\n",
       "<tr><th>cpf</th><th>customer_id</th><th>customer_name</th><th>delivery_address_city</th><th>delivery_address_country</th><th>delivery_address_district</th><th>delivery_address_external_id</th><th>delivery_address_latitude</th><th>delivery_address_longitude</th><th>delivery_address_state</th><th>delivery_address_zip_code</th><th>items</th><th>merchant_id</th><th>merchant_latitude</th><th>merchant_longitude</th><th>merchant_timezone</th><th>order_created_at</th><th>order_id</th><th>order_scheduled</th><th>order_total_amount</th><th>origin_platform</th><th>order_scheduled_date</th></tr>\n",
       "<tr><td>84046272628</td><td>b3d8ab42-501f-4c0...</td><td>LUIZ</td><td>TAUBATE</td><td>BR</td><td>CENTRO</td><td>7768797</td><td>-45.56</td><td>-23.03</td><td>SP</td><td>12010</td><td>[{&quot;name&quot;: &quot;Segund...</td><td>6f00d0fe-46a3-477...</td><td>-45.56</td><td>-23.03</td><td>America/Sao_Paulo</td><td>2019-01-23T15:51:...</td><td>fffffbfa-5827-432...</td><td>false</td><td>11.0</td><td>ANDROID</td><td>null</td></tr>\n",
       "<tr><td>67945725258</td><td>b3d8ab42-501f-4c0...</td><td>LUIZ</td><td>TAUBATE</td><td>BR</td><td>CENTRO</td><td>7768797</td><td>-45.56</td><td>-23.03</td><td>SP</td><td>12010</td><td>[{&quot;name&quot;: &quot;Segund...</td><td>6f00d0fe-46a3-477...</td><td>-45.56</td><td>-23.03</td><td>America/Sao_Paulo</td><td>2018-12-24T15:51:...</td><td>fffffbfa-5827-432...</td><td>false</td><td>11.0</td><td>ANDROID</td><td>null</td></tr>\n",
       "<tr><td>04866727801</td><td>97863872-c491-439...</td><td>JOÃO</td><td>BELO HORIZONTE</td><td>BR</td><td>NOVA SUISSA</td><td>3928809</td><td>-43.98</td><td>-19.93</td><td>MG</td><td>30421</td><td>[{&quot;name&quot;: &quot;Batata...</td><td>e72c1870-aaf7-49d...</td><td>-43.98</td><td>-19.93</td><td>America/Sao_Paulo</td><td>2018-12-07T22:53:...</td><td>fffff39a-2b12-44f...</td><td>false</td><td>33.8</td><td>DESKTOP</td><td>null</td></tr>\n",
       "<tr><td>56631150468</td><td>97863872-c491-439...</td><td>JOÃO</td><td>BELO HORIZONTE</td><td>BR</td><td>NOVA SUISSA</td><td>3928809</td><td>-43.98</td><td>-19.93</td><td>MG</td><td>30421</td><td>[{&quot;name&quot;: &quot;Batata...</td><td>e72c1870-aaf7-49d...</td><td>-43.98</td><td>-19.93</td><td>America/Sao_Paulo</td><td>2019-01-06T22:53:...</td><td>fffff39a-2b12-44f...</td><td>false</td><td>33.8</td><td>DESKTOP</td><td>null</td></tr>\n",
       "<tr><td>79586140037</td><td>182651b4-efca-454...</td><td>NATHALIA</td><td>SAO PAULO</td><td>BR</td><td>JARDIM DAS ACACIAS</td><td>9398041</td><td>-46.69</td><td>-23.62</td><td>SP</td><td>47040</td><td>[{&quot;name&quot;: &quot;Creme ...</td><td>08384e6a-56fe-48a...</td><td>-46.69</td><td>-23.62</td><td>America/Sao_Paulo</td><td>2019-01-24T23:30:...</td><td>ffffd242-fd05-4a1...</td><td>false</td><td>89.8</td><td>ANDROID</td><td>null</td></tr>\n",
       "<tr><td>81041553016</td><td>182651b4-efca-454...</td><td>NATHALIA</td><td>SAO PAULO</td><td>BR</td><td>JARDIM DAS ACACIAS</td><td>9398041</td><td>-46.69</td><td>-23.62</td><td>SP</td><td>47040</td><td>[{&quot;name&quot;: &quot;Creme ...</td><td>08384e6a-56fe-48a...</td><td>-46.69</td><td>-23.62</td><td>America/Sao_Paulo</td><td>2018-12-25T23:30:...</td><td>ffffd242-fd05-4a1...</td><td>false</td><td>89.8</td><td>ANDROID</td><td>null</td></tr>\n",
       "<tr><td>89971888098</td><td>206346ef-464d-493...</td><td>ANDRÉ</td><td>SAO PAULO</td><td>BR</td><td>VILA CARLOS DE CA...</td><td>5996321</td><td>-46.54</td><td>-23.53</td><td>SP</td><td>36400</td><td>[{&quot;name&quot;: &quot;Esfhir...</td><td>be092a99-71ce-410...</td><td>-46.54</td><td>-23.53</td><td>America/Sao_Paulo</td><td>2018-12-09T22:44:...</td><td>ffffcfcb-78de-45d...</td><td>false</td><td>26.3</td><td>ANDROID</td><td>null</td></tr>\n",
       "<tr><td>05401250148</td><td>206346ef-464d-493...</td><td>ANDRÉ</td><td>SAO PAULO</td><td>BR</td><td>VILA CARLOS DE CA...</td><td>5996321</td><td>-46.54</td><td>-23.53</td><td>SP</td><td>36400</td><td>[{&quot;name&quot;: &quot;Esfhir...</td><td>be092a99-71ce-410...</td><td>-46.54</td><td>-23.53</td><td>America/Sao_Paulo</td><td>2019-01-08T22:44:...</td><td>ffffcfcb-78de-45d...</td><td>false</td><td>26.3</td><td>ANDROID</td><td>null</td></tr>\n",
       "<tr><td>93855608979</td><td>fee1264c-0f73-46f...</td><td>Laura</td><td>RIO DE JANEIRO</td><td>BR</td><td>LARANJEIRAS</td><td>8741496</td><td>-43.18</td><td>-22.93</td><td>RJ</td><td>22240</td><td>[{&quot;name&quot;: &quot;ROL. C...</td><td>12f6ec30-77b6-49b...</td><td>-43.18</td><td>-22.93</td><td>America/Sao_Paulo</td><td>2019-01-30T22:36:...</td><td>ffffc3c9-8c9e-487...</td><td>false</td><td>79.1</td><td>IOS</td><td>null</td></tr>\n",
       "<tr><td>64264389175</td><td>d656999c-7ba5-40e...</td><td>JANILSON</td><td>NATAL</td><td>BR</td><td>NEOPOLIS</td><td>8834596</td><td>-35.21</td><td>-5.86</td><td>RN</td><td>59080</td><td>[{&quot;name&quot;: &quot;Promoç...</td><td>7b57905d-8eca-493...</td><td>-35.21</td><td>-5.86</td><td>America/Fortaleza</td><td>2019-01-24T01:05:...</td><td>ffffc34d-874a-4ff...</td><td>false</td><td>18.5</td><td>DESKTOP</td><td>null</td></tr>\n",
       "</table>\n"
      ],
      "text/plain": [
       "+-----------+--------------------+-------------+---------------------+------------------------+-------------------------+----------------------------+-------------------------+--------------------------+----------------------+-------------------------+--------------------+--------------------+-----------------+------------------+-----------------+--------------------+--------------------+---------------+------------------+---------------+--------------------+\n",
       "|        cpf|         customer_id|customer_name|delivery_address_city|delivery_address_country|delivery_address_district|delivery_address_external_id|delivery_address_latitude|delivery_address_longitude|delivery_address_state|delivery_address_zip_code|               items|         merchant_id|merchant_latitude|merchant_longitude|merchant_timezone|    order_created_at|            order_id|order_scheduled|order_total_amount|origin_platform|order_scheduled_date|\n",
       "+-----------+--------------------+-------------+---------------------+------------------------+-------------------------+----------------------------+-------------------------+--------------------------+----------------------+-------------------------+--------------------+--------------------+-----------------+------------------+-----------------+--------------------+--------------------+---------------+------------------+---------------+--------------------+\n",
       "|84046272628|b3d8ab42-501f-4c0...|         LUIZ|              TAUBATE|                      BR|                   CENTRO|                     7768797|                   -45.56|                    -23.03|                    SP|                    12010|[{\"name\": \"Segund...|6f00d0fe-46a3-477...|           -45.56|            -23.03|America/Sao_Paulo|2019-01-23T15:51:...|fffffbfa-5827-432...|          false|              11.0|        ANDROID|                null|\n",
       "|67945725258|b3d8ab42-501f-4c0...|         LUIZ|              TAUBATE|                      BR|                   CENTRO|                     7768797|                   -45.56|                    -23.03|                    SP|                    12010|[{\"name\": \"Segund...|6f00d0fe-46a3-477...|           -45.56|            -23.03|America/Sao_Paulo|2018-12-24T15:51:...|fffffbfa-5827-432...|          false|              11.0|        ANDROID|                null|\n",
       "|04866727801|97863872-c491-439...|         JOÃO|       BELO HORIZONTE|                      BR|              NOVA SUISSA|                     3928809|                   -43.98|                    -19.93|                    MG|                    30421|[{\"name\": \"Batata...|e72c1870-aaf7-49d...|           -43.98|            -19.93|America/Sao_Paulo|2018-12-07T22:53:...|fffff39a-2b12-44f...|          false|              33.8|        DESKTOP|                null|\n",
       "|56631150468|97863872-c491-439...|         JOÃO|       BELO HORIZONTE|                      BR|              NOVA SUISSA|                     3928809|                   -43.98|                    -19.93|                    MG|                    30421|[{\"name\": \"Batata...|e72c1870-aaf7-49d...|           -43.98|            -19.93|America/Sao_Paulo|2019-01-06T22:53:...|fffff39a-2b12-44f...|          false|              33.8|        DESKTOP|                null|\n",
       "|79586140037|182651b4-efca-454...|     NATHALIA|            SAO PAULO|                      BR|       JARDIM DAS ACACIAS|                     9398041|                   -46.69|                    -23.62|                    SP|                    47040|[{\"name\": \"Creme ...|08384e6a-56fe-48a...|           -46.69|            -23.62|America/Sao_Paulo|2019-01-24T23:30:...|ffffd242-fd05-4a1...|          false|              89.8|        ANDROID|                null|\n",
       "|81041553016|182651b4-efca-454...|     NATHALIA|            SAO PAULO|                      BR|       JARDIM DAS ACACIAS|                     9398041|                   -46.69|                    -23.62|                    SP|                    47040|[{\"name\": \"Creme ...|08384e6a-56fe-48a...|           -46.69|            -23.62|America/Sao_Paulo|2018-12-25T23:30:...|ffffd242-fd05-4a1...|          false|              89.8|        ANDROID|                null|\n",
       "|89971888098|206346ef-464d-493...|        ANDRÉ|            SAO PAULO|                      BR|     VILA CARLOS DE CA...|                     5996321|                   -46.54|                    -23.53|                    SP|                    36400|[{\"name\": \"Esfhir...|be092a99-71ce-410...|           -46.54|            -23.53|America/Sao_Paulo|2018-12-09T22:44:...|ffffcfcb-78de-45d...|          false|              26.3|        ANDROID|                null|\n",
       "|05401250148|206346ef-464d-493...|        ANDRÉ|            SAO PAULO|                      BR|     VILA CARLOS DE CA...|                     5996321|                   -46.54|                    -23.53|                    SP|                    36400|[{\"name\": \"Esfhir...|be092a99-71ce-410...|           -46.54|            -23.53|America/Sao_Paulo|2019-01-08T22:44:...|ffffcfcb-78de-45d...|          false|              26.3|        ANDROID|                null|\n",
       "|93855608979|fee1264c-0f73-46f...|        Laura|       RIO DE JANEIRO|                      BR|              LARANJEIRAS|                     8741496|                   -43.18|                    -22.93|                    RJ|                    22240|[{\"name\": \"ROL. C...|12f6ec30-77b6-49b...|           -43.18|            -22.93|America/Sao_Paulo|2019-01-30T22:36:...|ffffc3c9-8c9e-487...|          false|              79.1|            IOS|                null|\n",
       "|64264389175|d656999c-7ba5-40e...|     JANILSON|                NATAL|                      BR|                 NEOPOLIS|                     8834596|                   -35.21|                     -5.86|                    RN|                    59080|[{\"name\": \"Promoç...|7b57905d-8eca-493...|           -35.21|             -5.86|America/Fortaleza|2019-01-24T01:05:...|ffffc34d-874a-4ff...|          false|              18.5|        DESKTOP|                null|\n",
       "+-----------+--------------------+-------------+---------------------+------------------------+-------------------------+----------------------------+-------------------------+--------------------------+----------------------+-------------------------+--------------------+--------------------+-----------------+------------------+-----------------+--------------------+--------------------+---------------+------------------+---------------+--------------------+"
      ]
     },
     "execution_count": 14,
     "metadata": {},
     "output_type": "execute_result"
    }
   ],
   "source": [
    "df_order.sort(F.col(\"order_id\").desc()).limit(10)"
   ]
  },
  {
   "cell_type": "code",
   "execution_count": 15,
   "metadata": {},
   "outputs": [
    {
     "name": "stdout",
     "output_type": "stream",
     "text": [
      "+------------------------------------+------------------------------------+----------+------------------------+\n",
      "|order_id                            |status_id                           |value     |created_at              |\n",
      "+------------------------------------+------------------------------------+----------+------------------------+\n",
      "|00001cdb-2399-417f-b630-f87919d25eaa|dc1d5c26-5fc6-4d28-bf25-fc6789db218b|REGISTERED|2019-01-29T01:04:07.000Z|\n",
      "|00001cdb-2399-417f-b630-f87919d25eaa|dc1d5c26-5fc6-4d28-bf25-fc6789db218b|REGISTERED|2019-01-29T01:04:07.000Z|\n",
      "|00001cdb-2399-417f-b630-f87919d25eaa|a69f0793-1cac-4a7c-b767-e878d842b0e2|PLACED    |2019-01-29T01:04:08.000Z|\n",
      "|00001cdb-2399-417f-b630-f87919d25eaa|a69f0793-1cac-4a7c-b767-e878d842b0e2|PLACED    |2019-01-29T01:04:08.000Z|\n",
      "|00001cdb-2399-417f-b630-f87919d25eaa|aead61ab-c98e-45c9-a2a8-e53fcdf55afa|CONCLUDED |2019-01-29T03:05:06.000Z|\n",
      "|00001cdb-2399-417f-b630-f87919d25eaa|aead61ab-c98e-45c9-a2a8-e53fcdf55afa|CONCLUDED |2019-01-29T03:05:06.000Z|\n",
      "+------------------------------------+------------------------------------+----------+------------------------+\n",
      "\n",
      "+------------------------------------+------------------------+-----------+\n",
      "|order_id                            |order_created_at        |cpf        |\n",
      "+------------------------------------+------------------------+-----------+\n",
      "|00001cdb-2399-417f-b630-f87919d25eaa|2018-12-30T01:04:07.000Z|65244646968|\n",
      "|00001cdb-2399-417f-b630-f87919d25eaa|2019-01-29T01:04:07.000Z|47929245580|\n",
      "+------------------------------------+------------------------+-----------+\n",
      "\n"
     ]
    }
   ],
   "source": [
    "df_status.filter(df_status.order_id == \"00001cdb-2399-417f-b630-f87919d25eaa\").sort(\"created_at\").limit(10).show(10, False)\n",
    "\n",
    "df_order.filter(df_order.order_id == \"00001cdb-2399-417f-b630-f87919d25eaa\").sort(\"order_created_at\").select(*[\"order_id\",\"order_created_at\",\"cpf\"]).show(5, False)\n"
   ]
  },
  {
   "cell_type": "markdown",
   "metadata": {},
   "source": [
    "Well... we have a problem to handle. Not sure why this happened.\n"
   ]
  },
  {
   "cell_type": "code",
   "execution_count": null,
   "metadata": {},
   "outputs": [],
   "source": [
    "df_status.dropDuplicates() [data, data2] [cpf1,cpf2]"
   ]
  },
  {
   "cell_type": "markdown",
   "metadata": {},
   "source": [
    "# Dataframe Sanitization"
   ]
  },
  {
   "cell_type": "code",
   "execution_count": 9,
   "metadata": {},
   "outputs": [],
   "source": [
    "from pyspark.sql.functions import lit,unix_timestamp\n",
    "\n",
    "#converting specific columns to timestamp and dropping duplicates\n",
    "df_status = df_status.withColumn('created_at',unix_timestamp(lit(df_status.created_at),\"yyyy-MM-dd'T'HH:mm:ss.SSS'Z'\").cast(\"timestamp\"))\n",
    "df_status = df_status.dropDuplicates()\n",
    "\n",
    "df_order = df_order.withColumn('order_created_at',unix_timestamp(lit(df_order.order_created_at),\"yyyy-MM-dd'T'HH:mm:ss.SSS'Z'\").cast(\"timestamp\"))\n",
    "df_order = df_order.dropDuplicates()\n"
   ]
  },
  {
   "cell_type": "code",
   "execution_count": null,
   "metadata": {},
   "outputs": [],
   "source": [
    "df_order.groupBy(\"order_id\").count().filter(\"count >= 2\").count() "
   ]
  },
  {
   "cell_type": "code",
   "execution_count": null,
   "metadata": {},
   "outputs": [],
   "source": [
    "df_order.groupBy(\"order_id\").count().filter(\"count >= 3\").count() "
   ]
  },
  {
   "cell_type": "code",
   "execution_count": 10,
   "metadata": {},
   "outputs": [],
   "source": [
    "def add_prefix_to_df_columns(df, prefix=\"\", separator=\"_\", escape=[]):\n",
    "\n",
    "    for c in df.columns:\n",
    "        if (c not in escape) and (prefix not in c) :\n",
    "            df = df.withColumnRenamed(c, '{}{}{}'.format(prefix, separator, c))\n",
    "    return df"
   ]
  },
  {
   "cell_type": "code",
   "execution_count": 11,
   "metadata": {},
   "outputs": [
    {
     "name": "stdout",
     "output_type": "stream",
     "text": [
      "root\n",
      " |-- status_order_id: string (nullable = true)\n",
      " |-- status_id: string (nullable = true)\n",
      " |-- status_value: string (nullable = true)\n",
      " |-- status_created_at: timestamp (nullable = true)\n",
      "\n"
     ]
    }
   ],
   "source": [
    "add_prefix_to_df_columns(df_status, \"status\").printSchema()"
   ]
  },
  {
   "cell_type": "markdown",
   "metadata": {},
   "source": [
    "# Calculating metrics for future validation"
   ]
  },
  {
   "cell_type": "code",
   "execution_count": null,
   "metadata": {},
   "outputs": [],
   "source": [
    "metrics_df_order      = calculate_metrics(df_order)\n",
    "metrics_df_restaurant = calculate_metrics(df_restaurant)\n",
    "metrics_df_consumer   = calculate_metrics(df_consumer)\n",
    "metrics_df_status     = calculate_metrics(df_status)"
   ]
  },
  {
   "cell_type": "markdown",
   "metadata": {},
   "source": [
    "# Job 1: Trusted dataset building "
   ]
  },
  {
   "cell_type": "code",
   "execution_count": null,
   "metadata": {},
   "outputs": [],
   "source": [
    "# df_trusted_order        = build_df_trusted_order(df_order, df_restaurant, df_consumer, df_status)\n",
    "# df_trusted_items        = build_df_trusted_items(df_order, df_restaurant, df_consumer, df_status)\n",
    "# df_trusted_order_status = build_df_trusted_items(df_order, df_restaurant, df_consumer, df_status)\n",
    "\n",
    "\n",
    "# compare_metrics()\n",
    "\n",
    "# anonimize()\n",
    "\n",
    "# serialize_df(df_trusted_order, partition_key=\"\")\n",
    "# serialize_df(df_trusted_items, partition_key=\"\")\n",
    "# serialize_df(df_trusted_order_status, partition_key=\"\")\n"
   ]
  },
  {
   "cell_type": "code",
   "execution_count": 12,
   "metadata": {},
   "outputs": [],
   "source": [
    "import pyspark.sql.functions as F\n",
    "import pyspark.sql.types as T\n",
    "\n",
    "def validate_json(record):\n",
    "    import json\n",
    "    import re\n",
    "      \n",
    "    try:\n",
    "        updated_record = record.replace(r'\\\", \"', '\\ \", \"')\n",
    "        updated_record = updated_record.replace(r'\\\"}', '\\ \"}')      \n",
    "        updated_record = updated_record.replace(r'\\\"', '\\\"')      \n",
    "      \n",
    "        json.loads(updated_record)   # trying to parse...\n",
    "        return updated_record\n",
    "        \n",
    "    except Exception as e:\n",
    "        \n",
    "        return 'invalid'\n",
    "    \n",
    "parse_and_fix_json = F.udf(validate_json, T.StringType())"
   ]
  },
  {
   "cell_type": "code",
   "execution_count": 13,
   "metadata": {},
   "outputs": [
    {
     "name": "stdout",
     "output_type": "stream",
     "text": [
      "Total of invalid json items: 0\n"
     ]
    }
   ],
   "source": [
    "df_order = df_order.withColumn(\"items_json_text\", parse_and_fix_json(F.col(\"items\")))\n",
    "\n",
    "count_of_invalid_json_items = df_order.filter(df_order.items_json_text == 'invalid').count()\n",
    "\n",
    "print(\"Total of invalid json items: {}\".format(count_of_invalid_json_items))"
   ]
  },
  {
   "cell_type": "code",
   "execution_count": null,
   "metadata": {},
   "outputs": [],
   "source": [
    "from pyspark.sql.functions import from_json, col\n",
    "\n",
    "\n",
    "items_json_schema = sqlc.read.json(df_order.rdd.map(lambda row: row.items_json_text)).schema\n",
    "# remark about previous schema building: we could improve this infering process by taking a sample of data. Further evaluation of wuch strategy will be need and therefore will not be adopted here\n",
    "\n",
    "df_order = df_order.withColumn('items', from_json(col('items_json_text'), items_json_schema)).drop(\"items_json_text\")\n"
   ]
  },
  {
   "cell_type": "code",
   "execution_count": null,
   "metadata": {},
   "outputs": [],
   "source": [
    "# df_order_sample = df_order.sample(False, fraction=0.001, seed=None)"
   ]
  },
  {
   "cell_type": "code",
   "execution_count": null,
   "metadata": {},
   "outputs": [],
   "source": [
    "from pyspark.sql.functions import col, max as max_\n",
    "\n",
    "df_restaurant = add_prefix_to_df_columns(df_restaurant,\"merchant\", escape=[])\n",
    "df_consumer   = add_prefix_to_df_columns(df_consumer,\"customer\", escape=[])\n",
    "df_status     = add_prefix_to_df_columns(df_status,\"status\", escape=['order_id'])\n",
    "df_status     = add_prefix_to_df_columns(df_status,\"status\", escape=['order_id'])\n",
    "\n",
    "\n",
    "df_order_laststatus = df_status.groupBy(\"order_id\").agg(max_(\"status_created_at\").alias(\"last_event\")).alias(\"df_event_agg\")\\\n",
    "                               .join(df_status, (df_status.order_id == col('df_event_agg.order_id')) & (df_status.status_created_at == col('df_event_agg.last_event'))).select(\"df_event_agg.order_id\",\"status_value\")"
   ]
  },
  {
   "cell_type": "code",
   "execution_count": null,
   "metadata": {},
   "outputs": [],
   "source": [
    "df_order_laststatus.printSchema()\n",
    "df_order_laststatus.groupBy(\"order_id\").count().filter(\"count >= 2\").count() "
   ]
  },
  {
   "cell_type": "code",
   "execution_count": null,
   "metadata": {},
   "outputs": [],
   "source": [
    "df_trusted_order = df_order.join(df_consumer, ['customer_id'])\n",
    "# .join(df_restaurant, \"merchant_id\").join(df_order_laststatus, \"order_id\")"
   ]
  },
  {
   "cell_type": "code",
   "execution_count": null,
   "metadata": {},
   "outputs": [],
   "source": [
    "df_order.groupBy(\"order_id\").count().filter(\"count >= 2\").count() \n"
   ]
  },
  {
   "cell_type": "code",
   "execution_count": null,
   "metadata": {},
   "outputs": [],
   "source": [
    "# creating column with LOCAL timestamp\n",
    "df_trusted_order = df_trusted_order.withColumn(\"localtime_order_created_at\",pyspark.sql.functions.to_utc_timestamp(col(\"order_created_at\"), col(\"merchant_timezone\")))"
   ]
  },
  {
   "cell_type": "code",
   "execution_count": null,
   "metadata": {},
   "outputs": [],
   "source": [
    "df_trusted_order.show(4, False)"
   ]
  },
  {
   "cell_type": "code",
   "execution_count": null,
   "metadata": {},
   "outputs": [],
   "source": [
    "df_order.groupBy(\"order_id\").count().filter(\"count >= 2\").count() "
   ]
  },
  {
   "cell_type": "code",
   "execution_count": null,
   "metadata": {},
   "outputs": [],
   "source": [
    "df_trusted_order.printSchema()"
   ]
  },
  {
   "cell_type": "code",
   "execution_count": null,
   "metadata": {},
   "outputs": [],
   "source": [
    "from pyspark.sql.functions import year, month, col, to_date\n",
    "\n",
    "\n",
    "df_trusted_order = df_trusted_order.withColumn(\"localtime_order_created_at_date\", to_date(col(\"localtime_order_created_at\") ))\n",
    "\n",
    "\n",
    "df_trusted_order\\\n",
    "    .write\\\n",
    "    .partitionBy(\"localtime_order_created_at_date\")\\\n",
    "    .mode(\"overwrite\")\\\n",
    "    .format(\"parquet\")\\\n",
    "    .save(\"s3a://trusted-data/orders\")\n",
    "\n",
    "\n"
   ]
  },
  {
   "cell_type": "code",
   "execution_count": null,
   "metadata": {},
   "outputs": [],
   "source": [
    "df_status.filter(df_status.order_id == \"bb779eab-d791-482a-94f5-abd89ee52002\").show(10, False)"
   ]
  },
  {
   "cell_type": "code",
   "execution_count": null,
   "metadata": {},
   "outputs": [],
   "source": [
    "df_status.count()\n"
   ]
  },
  {
   "cell_type": "code",
   "execution_count": null,
   "metadata": {},
   "outputs": [],
   "source": [
    "df_status_raw = sqlc.read.json('s3a://raw-data/status.json')\n",
    "\n",
    "df_status_raw.printSchema()\n",
    "df_status_raw.filter(df_status_raw.order_id == \"bb779eab-d791-482a-94f5-abd89ee52002\").show(10, False)\n"
   ]
  }
 ],
 "metadata": {
  "kernelspec": {
   "display_name": "Python 3",
   "language": "python",
   "name": "python3"
  },
  "language_info": {
   "codemirror_mode": {
    "name": "ipython",
    "version": 3
   },
   "file_extension": ".py",
   "mimetype": "text/x-python",
   "name": "python",
   "nbconvert_exporter": "python",
   "pygments_lexer": "ipython3",
   "version": "3.7.6"
  }
 },
 "nbformat": 4,
 "nbformat_minor": 4
}
